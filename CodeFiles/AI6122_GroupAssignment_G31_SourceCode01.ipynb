{
 "cells": [
  {
   "cell_type": "code",
   "execution_count": 8,
   "id": "22708da7-3772-4d26-83d8-c54f2651fa2f",
   "metadata": {},
   "outputs": [],
   "source": [
    "import pandas as pd\n",
    "import json\n",
    "\n",
    "# Initialize an empty list to hold each JSON object\n",
    "business_data = []\n",
    "review_data = []\n",
    "\n",
    "# Open the Yelp business dataset\n",
    "with open('yelp_academic_dataset_business.json', 'r', encoding=\"utf-8\") as file:\n",
    "    # Read each line in the file (each line is a JSON object)\n",
    "    for line in file:\n",
    "        # Parse each line as JSON and append to the list\n",
    "        business_data.append(json.loads(line))\n",
    "\n",
    "# Convert the list of dictionaries to a pandas DataFrame\n",
    "business_df = pd.DataFrame(business_data)\n",
    "\n",
    "# Open the Yelp review dataset\n",
    "with open('yelp_academic_dataset_review.json', 'r', encoding=\"utf-8\") as file:\n",
    "    # Read each line in the file (each line is a JSON object)\n",
    "    for line in file:\n",
    "        # Parse each line as JSON and append to the list\n",
    "        review_data.append(json.loads(line))\n",
    "\n",
    "review_df = pd.DataFrame(review_data)"
   ]
  },
  {
   "cell_type": "code",
   "execution_count": 10,
   "id": "5e22cd5b-84bb-4658-97a1-a1606371057f",
   "metadata": {},
   "outputs": [
    {
     "name": "stdout",
     "output_type": "stream",
     "text": [
      "Number of business records: 9250\n",
      "Number of review records: 404880\n"
     ]
    }
   ],
   "source": [
    "\n",
    "filtered_business_df = business_df[business_df['city'] == \"Tucson\"]\n",
    "filtered_review_df = review_df[review_df['business_id'].isin(filtered_business_df['business_id'])]\n",
    "\n",
    "business_count = len(filtered_business_df)\n",
    "review_count = len(filtered_review_df)\n",
    "\n",
    "filtered_business_df.to_json(f'tucson_business_with_review.json', orient='records', lines=True, force_ascii=False)\n",
    "filtered_review_df.to_json(f'review_of_tucson_businesses.json', orient='records', lines=True, force_ascii=False)\n",
    "\n",
    "print(f\"Number of business records: {business_count}\")\n",
    "print(f\"Number of review records: {review_count}\")"
   ]
  },
  {
   "cell_type": "code",
   "execution_count": null,
   "id": "1c79e97c-5d8b-465d-bc0c-8d3ec9ef4c78",
   "metadata": {},
   "outputs": [],
   "source": []
  }
 ],
 "metadata": {
  "kernelspec": {
   "display_name": "Python 3 (ipykernel)",
   "language": "python",
   "name": "python3"
  },
  "language_info": {
   "codemirror_mode": {
    "name": "ipython",
    "version": 3
   },
   "file_extension": ".py",
   "mimetype": "text/x-python",
   "name": "python",
   "nbconvert_exporter": "python",
   "pygments_lexer": "ipython3",
   "version": "3.12.4"
  }
 },
 "nbformat": 4,
 "nbformat_minor": 5
}
